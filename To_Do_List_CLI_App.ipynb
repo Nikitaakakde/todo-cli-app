{
  "nbformat": 4,
  "nbformat_minor": 0,
  "metadata": {
    "colab": {
      "provenance": []
    },
    "kernelspec": {
      "name": "python3",
      "display_name": "Python 3"
    },
    "language_info": {
      "name": "python"
    }
  },
  "cells": [
    {
      "cell_type": "code",
      "source": [
        "# To-Do List CLI App\n",
        "\n",
        "todo_list = []\n",
        "\n",
        "def show_menu():\n",
        "    print(\"\\n📋 To-Do List App\")\n",
        "    print(\"1. ➕ Add Task\")\n",
        "    print(\"2. ✅ View Tasks\")\n",
        "    print(\"3. ❌ Remove Task\")\n",
        "    print(\"4. 🚪 Exit\")\n",
        "\n",
        "def add_task():\n",
        "    task = input(\"Enter the task: \")\n",
        "    todo_list.append(task)\n",
        "    print(f\"✅ Task added: {task}\")\n",
        "\n",
        "def view_tasks():\n",
        "    if not todo_list:\n",
        "        print(\"📭 No tasks in the list.\")\n",
        "    else:\n",
        "        print(\"\\n📌 Tasks:\")\n",
        "        for i, task in enumerate(todo_list, 1):\n",
        "            print(f\"{i}. {task}\")\n",
        "\n",
        "def remove_task():\n",
        "    view_tasks()\n",
        "    if todo_list:\n",
        "        try:\n",
        "            num = int(input(\"Enter task number to remove: \"))\n",
        "            removed = todo_list.pop(num - 1)\n",
        "            print(f\"❌ Removed: {removed}\")\n",
        "        except:\n",
        "            print(\"⚠️ Invalid task number!\")\n",
        "\n",
        "# Main Loop\n",
        "while True:\n",
        "    show_menu()\n",
        "    choice = input(\"Choose an option (1-4): \")\n",
        "\n",
        "    if choice == \"1\":\n",
        "        add_task()\n",
        "    elif choice == \"2\":\n",
        "        view_tasks()\n",
        "    elif choice == \"3\":\n",
        "        remove_task()\n",
        "    elif choice == \"4\":\n",
        "        print(\"👋 Exiting... Bye!\")\n",
        "        break\n",
        "    else:\n",
        "        print(\"⚠️ Invalid choice. Try again.\")"
      ],
      "metadata": {
        "colab": {
          "base_uri": "https://localhost:8080/"
        },
        "id": "xeBN2fbSc24d",
        "outputId": "70900015-5a47-4487-e924-e9ce3795f0a8"
      },
      "execution_count": null,
      "outputs": [
        {
          "output_type": "stream",
          "name": "stdout",
          "text": [
            "\n",
            "📋 To-Do List App\n",
            "1. ➕ Add Task\n",
            "2. ✅ View Tasks\n",
            "3. ❌ Remove Task\n",
            "4. 🚪 Exit\n"
          ]
        }
      ]
    },
    {
      "cell_type": "code",
      "source": [],
      "metadata": {
        "id": "cyqrY2NvemTK"
      },
      "execution_count": null,
      "outputs": []
    }
  ]
}